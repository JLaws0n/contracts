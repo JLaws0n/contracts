{
 "metadata": {
  "name": "vincent"
 },
 "nbformat": 3,
 "nbformat_minor": 0,
 "worksheets": [
  {
   "cells": [
    {
     "cell_type": "code",
     "collapsed": false,
     "input": [
      "from pandas import read_csv\n",
      "df = read_csv(\"../data/proc/contracts_2001_2003.csv\")\n",
      "df.Amount = map( lambda s : float(s), df.Amount )\n",
      "df.Contractor = map( lambda s : s.strip(), df.Contractor )\n",
      "df.head()"
     ],
     "language": "python",
     "metadata": {},
     "outputs": [
      {
       "html": [
        "<div style=\"max-height:1000px;max-width:1500px;overflow:auto;\">\n",
        "<table border=\"1\" class=\"dataframe\">\n",
        "  <thead>\n",
        "    <tr style=\"text-align: right;\">\n",
        "      <th></th>\n",
        "      <th>Date</th>\n",
        "      <th>Amount</th>\n",
        "      <th>Contractor</th>\n",
        "    </tr>\n",
        "  </thead>\n",
        "  <tbody>\n",
        "    <tr>\n",
        "      <th>0</th>\n",
        "      <td> 978393600</td>\n",
        "      <td> 30102622</td>\n",
        "      <td>                        J&amp;J Maintenance</td>\n",
        "    </tr>\n",
        "    <tr>\n",
        "      <th>1</th>\n",
        "      <td> 978393600</td>\n",
        "      <td> 20000000</td>\n",
        "      <td>                               Raytheon</td>\n",
        "    </tr>\n",
        "    <tr>\n",
        "      <th>2</th>\n",
        "      <td> 978393600</td>\n",
        "      <td>  6000000</td>\n",
        "      <td> Lockheed Martin Missile &amp; Fire Control</td>\n",
        "    </tr>\n",
        "    <tr>\n",
        "      <th>3</th>\n",
        "      <td> 978393600</td>\n",
        "      <td> 14997446</td>\n",
        "      <td>                               Raytheon</td>\n",
        "    </tr>\n",
        "    <tr>\n",
        "      <th>4</th>\n",
        "      <td> 978393600</td>\n",
        "      <td> 11010530</td>\n",
        "      <td>               BAE Systems Technologies</td>\n",
        "    </tr>\n",
        "  </tbody>\n",
        "</table>\n",
        "</div>"
       ],
       "output_type": "pyout",
       "prompt_number": 84,
       "text": [
        "        Date    Amount                              Contractor\n",
        "0  978393600  30102622                         J&J Maintenance\n",
        "1  978393600  20000000                                Raytheon\n",
        "2  978393600   6000000  Lockheed Martin Missile & Fire Control\n",
        "3  978393600  14997446                                Raytheon\n",
        "4  978393600  11010530                BAE Systems Technologies"
       ]
      }
     ],
     "prompt_number": 84
    },
    {
     "cell_type": "code",
     "collapsed": false,
     "input": [
      "by_contractor = df.groupby('Contractor')\n",
      "\n",
      "groups = by_contractor.groups\n",
      "bysize = by_contractor.size()\n",
      "a = df['Amount'][0:1]\n",
      "type(a[0])"
     ],
     "language": "python",
     "metadata": {},
     "outputs": [
      {
       "output_type": "pyout",
       "prompt_number": 95,
       "text": [
        "numpy.float64"
       ]
      }
     ],
     "prompt_number": 95
    },
    {
     "cell_type": "code",
     "collapsed": false,
     "input": [
      "len(groups.values())\n",
      "print \"groups: \" + str(groups.keys()[0:10])\n",
      "print \"values: \" + str(groups.values()[0:10])"
     ],
     "language": "python",
     "metadata": {},
     "outputs": [
      {
       "output_type": "stream",
       "stream": "stdout",
       "text": [
        "groups: ['Toshiba America Medical System', 'Ace Engineering', 'KCI Construction', 'Clark Design/Build', 'Hardaway Construction', 'JM Waller Associates', 'Gibbs Construction', 'Engineered Electric Systems', 'Electronic Warfare Associates', 'Henry M. Jackson Foundation for the Advancement of Military Medicine']\n",
        "values: [[1145, 2363], [1200, 3976], [5677], [6131, 6158], [3081], [4977], [1507, 3663, 3968, 5315], [1050], [6516], [4779]]\n"
       ]
      }
     ],
     "prompt_number": 96
    },
    {
     "cell_type": "code",
     "collapsed": false,
     "input": [
      "x = by_contractor.aggregate({'Amount':np.sum})\n",
      "y = x.sort(columns='Amount', ascending=False)\n",
      "y.head()"
     ],
     "language": "python",
     "metadata": {},
     "outputs": [
      {
       "html": [
        "<div style=\"max-height:1000px;max-width:1500px;overflow:auto;\">\n",
        "<table border=\"1\" class=\"dataframe\">\n",
        "  <thead>\n",
        "    <tr style=\"text-align: right;\">\n",
        "      <th></th>\n",
        "      <th>Amount</th>\n",
        "    </tr>\n",
        "    <tr>\n",
        "      <th>Contractor</th>\n",
        "      <th></th>\n",
        "    </tr>\n",
        "  </thead>\n",
        "  <tbody>\n",
        "    <tr>\n",
        "      <th>Lockheed Martin</th>\n",
        "      <td> 1.423728e+11</td>\n",
        "    </tr>\n",
        "    <tr>\n",
        "      <th>McDonnell Douglas</th>\n",
        "      <td> 4.552562e+10</td>\n",
        "    </tr>\n",
        "    <tr>\n",
        "      <th>Boeing</th>\n",
        "      <td> 3.579512e+10</td>\n",
        "    </tr>\n",
        "    <tr>\n",
        "      <th>Mullen</th>\n",
        "      <td> 3.429804e+10</td>\n",
        "    </tr>\n",
        "    <tr>\n",
        "      <th>ADI Technology</th>\n",
        "      <td> 1.450000e+10</td>\n",
        "    </tr>\n",
        "  </tbody>\n",
        "</table>\n",
        "</div>"
       ],
       "output_type": "pyout",
       "prompt_number": 126,
       "text": [
        "                         Amount\n",
        "Contractor                     \n",
        "Lockheed Martin    1.423728e+11\n",
        "McDonnell Douglas  4.552562e+10\n",
        "Boeing             3.579512e+10\n",
        "Mullen             3.429804e+10\n",
        "ADI Technology     1.450000e+10"
       ]
      }
     ],
     "prompt_number": 126
    },
    {
     "cell_type": "code",
     "collapsed": false,
     "input": [
      "top10 = y[9::-1]\n",
      "#top20 = y[19::-1]\n"
     ],
     "language": "python",
     "metadata": {},
     "outputs": [],
     "prompt_number": 140
    },
    {
     "cell_type": "code",
     "collapsed": false,
     "input": [
      "fig = figure(figsize=(9,7))\n",
      "ax = fig.add_subplot(111)\n",
      "top10.plot(kind='barh', sharex=False, ax=ax, sort_columns='True', legend=False, fc='dodgerblue', fontsize=16)\n",
      "\n",
      "ax.set_xlabel(\"Billions of US Dollars\",fontdict={\"size\":20})\n",
      "ax.set_xlim([0, 1.6e11])\n",
      "ax.set_xticklabels([\"0\", \"20\", \"40\", \"60\", \"80\", \"100\", \"120\", \"140\", \"160\"])"
     ],
     "language": "python",
     "metadata": {},
     "outputs": [
      {
       "output_type": "pyout",
       "prompt_number": 320,
       "text": [
        "[<matplotlib.text.Text at 0x10df89d90>,\n",
        " <matplotlib.text.Text at 0x115af4cd0>,\n",
        " <matplotlib.text.Text at 0x115f08550>,\n",
        " <matplotlib.text.Text at 0x115f0c2d0>,\n",
        " <matplotlib.text.Text at 0x1161cd110>,\n",
        " <matplotlib.text.Text at 0x1161cd7d0>,\n",
        " <matplotlib.text.Text at 0x1161cde90>,\n",
        " <matplotlib.text.Text at 0x1161d1590>,\n",
        " <matplotlib.text.Text at 0x1161d1c50>]"
       ]
      },
      {
       "output_type": "display_data",
       "png": "[encoded data removed]"
      }
     ],
     "prompt_number": 320
    },
    {
     "cell_type": "code",
     "collapsed": false,
     "input": [
      "y = x.sort(columns='Amount', ascending=False)\n",
      "top10 = y[9::-1]\n",
      "top10.Amount = map( lambda v : v/1e9, top10.Amount )\n",
      "top10"
     ],
     "language": "python",
     "metadata": {},
     "outputs": [
      {
       "html": [
        "<div style=\"max-height:1000px;max-width:1500px;overflow:auto;\">\n",
        "<table border=\"1\" class=\"dataframe\">\n",
        "  <thead>\n",
        "    <tr style=\"text-align: right;\">\n",
        "      <th></th>\n",
        "      <th>Amount</th>\n",
        "    </tr>\n",
        "    <tr>\n",
        "      <th>Contractor</th>\n",
        "      <th></th>\n",
        "    </tr>\n",
        "  </thead>\n",
        "  <tbody>\n",
        "    <tr>\n",
        "      <th>United Technologies</th>\n",
        "      <td>   9.606970</td>\n",
        "    </tr>\n",
        "    <tr>\n",
        "      <th>Electric Boat</th>\n",
        "      <td>  10.411731</td>\n",
        "    </tr>\n",
        "    <tr>\n",
        "      <th>AM General</th>\n",
        "      <td>  10.704972</td>\n",
        "    </tr>\n",
        "    <tr>\n",
        "      <th>Lockheed-Martin</th>\n",
        "      <td>  11.868288</td>\n",
        "    </tr>\n",
        "    <tr>\n",
        "      <th>Raytheon</th>\n",
        "      <td>  13.324971</td>\n",
        "    </tr>\n",
        "    <tr>\n",
        "      <th>ADI Technology</th>\n",
        "      <td>  14.500000</td>\n",
        "    </tr>\n",
        "    <tr>\n",
        "      <th>Mullen</th>\n",
        "      <td>  34.298044</td>\n",
        "    </tr>\n",
        "    <tr>\n",
        "      <th>Boeing</th>\n",
        "      <td>  35.795122</td>\n",
        "    </tr>\n",
        "    <tr>\n",
        "      <th>McDonnell Douglas</th>\n",
        "      <td>  45.525622</td>\n",
        "    </tr>\n",
        "    <tr>\n",
        "      <th>Lockheed Martin</th>\n",
        "      <td> 142.372823</td>\n",
        "    </tr>\n",
        "  </tbody>\n",
        "</table>\n",
        "</div>"
       ],
       "output_type": "pyout",
       "prompt_number": 325,
       "text": [
        "                         Amount\n",
        "Contractor                     \n",
        "United Technologies    9.606970\n",
        "Electric Boat         10.411731\n",
        "AM General            10.704972\n",
        "Lockheed-Martin       11.868288\n",
        "Raytheon              13.324971\n",
        "ADI Technology        14.500000\n",
        "Mullen                34.298044\n",
        "Boeing                35.795122\n",
        "McDonnell Douglas     45.525622\n",
        "Lockheed Martin      142.372823"
       ]
      }
     ],
     "prompt_number": 325
    },
    {
     "cell_type": "code",
     "collapsed": false,
     "input": [
      "import vincent\n",
      "from vincent import AxisProperties, PropertySet, ValueRef, Axis, MarkProperties\n",
      "bar = vincent.Bar( top10['Amount'][10:4:-1] )\n",
      "pad = bar.padding\n",
      "pad['top'] = 10\n",
      "pad['right']=10\n",
      "pad['left'] = 100\n",
      "pad['bottom'] = 200\n",
      "#print pad.items()\n",
      "ax = AxisProperties(labels = PropertySet(angle=ValueRef(value=90),align=ValueRef(value='left')))\n",
      "#print ax.grammar()\n",
      "\n",
      "bar.axes[0].title = \"Contractor\"\n",
      "ax1 = bar.axes[0]\n",
      "ax1.title_offset = 150\n",
      "mks = bar.marks\n",
      "mks[0]\n",
      "p = mks[0].properties\n",
      "#p.enter.width = ValueRef(value=50)\n",
      "#p.enter.width.offset = -10\n",
      "p.enter.width.band = True\n",
      "bx = bar.axes[0]\n",
      "bx.properties = ax\n",
      "#bar.padding = PropertySet(top=ValueRef(value=20))\n",
      "bx.tick_padding = 5\n",
      "#print bx.to_json()\n",
      "by = bar.axes[1]\n",
      "bar.width = 500\n",
      "by.title = \"Billions of US Dollars\"\n",
      "by.title_offset = 70\n",
      "\n",
      "\n",
      "#by.properties = AxisProperties()\n",
      "#print bar.to_json()\n",
      "bar.display()"
     ],
     "language": "python",
     "metadata": {},
     "outputs": [
      {
       "html": [
        "<div id=\"vis64428\"></div>"
       ],
       "output_type": "display_data",
       "text": [
        "<IPython.core.display.HTML at 0x1161e7290>"
       ]
      },
      {
       "javascript": [
        "\n",
        "( function() {\n",
        "  var _do_plot = function() {\n",
        "    if ( typeof vg == 'undefined' ) {\n",
        "      $([IPython.events]).on(\"vega_loaded.vincent\", _do_plot);\n",
        "      return;\n",
        "    }\n",
        "    vg.parse.spec({\"axes\": [{\"properties\": {\"labels\": {\"align\": {\"value\": \"left\"}, \"angle\": {\"value\": 90}}}, \"scale\": \"x\", \"tickPadding\": 5, \"title\": \"Contractor\", \"titleOffset\": 150, \"type\": \"x\"}, {\"scale\": \"y\", \"title\": \"Billions of US Dollars\", \"titleOffset\": 70, \"type\": \"y\"}], \"data\": [{\"name\": \"table\", \"values\": [{\"col\": \"Amount\", \"idx\": \"Lockheed Martin\", \"val\": 142.37282259}, {\"col\": \"Amount\", \"idx\": \"McDonnell Douglas\", \"val\": 45.525622318}, {\"col\": \"Amount\", \"idx\": \"Boeing\", \"val\": 35.795121802}, {\"col\": \"Amount\", \"idx\": \"Mullen\", \"val\": 34.2980436}, {\"col\": \"Amount\", \"idx\": \"ADI Technology\", \"val\": 14.5}]}], \"height\": 500, \"legends\": [], \"marks\": [{\"from\": {\"data\": \"table\"}, \"properties\": {\"enter\": {\"width\": {\"band\": true, \"offset\": -1, \"scale\": \"x\"}, \"x\": {\"field\": \"data.idx\", \"scale\": \"x\"}, \"y\": {\"field\": \"data.val\", \"scale\": \"y\"}, \"y2\": {\"scale\": \"y\", \"value\": 0}}, \"update\": {\"fill\": {\"value\": \"steelblue\"}}}, \"type\": \"rect\"}], \"padding\": {\"bottom\": 200, \"left\": 100, \"right\": 10, \"top\": 10}, \"scales\": [{\"domain\": {\"data\": \"table\", \"field\": \"data.idx\"}, \"name\": \"x\", \"range\": \"width\", \"type\": \"ordinal\"}, {\"domain\": {\"data\": \"table\", \"field\": \"data.val\"}, \"name\": \"y\", \"nice\": true, \"range\": \"height\"}], \"width\": 500}, function(chart) {\n",
        "      chart({el: \"#vis64428\"}).update();\n",
        "    });\n",
        "  };\n",
        "  _do_plot();\n",
        "})();\n"
       ],
       "output_type": "display_data",
       "text": [
        "<IPython.core.display.Javascript at 0x1161e7410>"
       ]
      }
     ],
     "prompt_number": 341
    },
    {
     "cell_type": "code",
     "collapsed": false,
     "input": [
      "#print bar.to_json()"
     ],
     "language": "python",
     "metadata": {},
     "outputs": [],
     "prompt_number": 338
    },
    {
     "cell_type": "code",
     "collapsed": false,
     "input": [
      "a = map( lambda i: '{\"x\":' + str( i*44.4 + 51.44 ) + ', \"y\":' + str(50*abs(randn(1)[0])) +'}', range(1,10) )"
     ],
     "language": "python",
     "metadata": {},
     "outputs": [],
     "prompt_number": 318
    },
    {
     "cell_type": "code",
     "collapsed": false,
     "input": [
      "s = \"[\" + \",\".join(a) + \"]\"\n",
      "s"
     ],
     "language": "python",
     "metadata": {},
     "outputs": [
      {
       "output_type": "pyout",
       "prompt_number": 319,
       "text": [
        "'[{\"x\":95.84, \"y\":96.4300265899},{\"x\":140.24, \"y\":6.89004384905},{\"x\":184.64, \"y\":45.130292287},{\"x\":229.04, \"y\":26.2237102375},{\"x\":273.44, \"y\":16.1725938556},{\"x\":317.84, \"y\":82.6811396794},{\"x\":362.24, \"y\":30.7480376234},{\"x\":406.64, \"y\":45.6200395161},{\"x\":451.04, \"y\":28.2820553235}]'"
       ]
      }
     ],
     "prompt_number": 319
    },
    {
     "cell_type": "code",
     "collapsed": false,
     "input": [
      "\n"
     ],
     "language": "python",
     "metadata": {},
     "outputs": []
    }
   ],
   "metadata": {}
  }
 ]
}